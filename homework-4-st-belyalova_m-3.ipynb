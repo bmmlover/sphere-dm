{
 "cells": [
  {
   "cell_type": "markdown",
   "metadata": {},
   "source": [
    "# Домашнее задание 4. Конструирование текстовых признаков из твитов пользователей"
   ]
  },
  {
   "cell_type": "markdown",
   "metadata": {},
   "source": [
    "## Сбор данных"
   ]
  },
  {
   "cell_type": "markdown",
   "metadata": {},
   "source": [
    "Первый этап - сбор твитов пользователей. Необходимо подключаться к Twitter API и запрашивать твиты по id пользователя. \n",
    "Подключение к API подробно описано в ДЗ 1."
   ]
  },
  {
   "cell_type": "code",
   "execution_count": 294,
   "metadata": {
    "collapsed": false
   },
   "outputs": [],
   "source": [
    "import twitter\n",
    "\n",
    "CONSUMER_KEY = \"1w8Ph7u118iOEFtSr55jbouCj\"\n",
    "CONSUMER_SECRET = \"mNbLMj3nGszNGPabJXFP0RmX8Av0eoM0XrAso0davvXmNBtqSR\"\n",
    "\n",
    "ACCESS_TOKEN_KEY = \"219939677-T98l4vUau7NkpInpZHqIgM1CcCJ52HA9n3Wqylru\"\n",
    "ACCESS_TOKEN_SECRET = \"b3p3EgKUkITt4ty6mDqxfcTCi1DI60wUufZRi5YYnhbAu\"\n",
    "\n",
    "api = twitter.Api(consumer_key=CONSUMER_KEY, \n",
    "                  consumer_secret=CONSUMER_SECRET, \n",
    "                  access_token_key=ACCESS_TOKEN_KEY, \n",
    "                  access_token_secret=ACCESS_TOKEN_SECRET)"
   ]
  },
  {
   "cell_type": "markdown",
   "metadata": {},
   "source": [
    "Для получения твитов пользователя может быть использован метод GetUserTimeline из библиотеки python-twitter. Он позволяет получить не более 200 твитов пользователя. По каждому пользователю достаточно собрать 200 твитов.\n",
    "\n",
    "Метод имеет ограничение по количеству запросов в секунду. Для получения информации о промежутке времени, которое необходимо подождать для повторного обращения к API может быть использован метод `GetSleepTime`. Для получения информации об ограничениях запросов с помощью метода `GetUserTimeLine` необходимо вызывать `GetSleepTime` с параметром \"statuses/user_timeline\".\n",
    "\n",
    "Метод GetUserTimeline возвращает объекты типа Status. У этих объектов есть метод AsDict, который позволяет представить твит в виде словаря.\n",
    "\n",
    "Id пользователей необходимо считать из файла, как было сделано в ДЗ 1.\n",
    "\n",
    "Необходимо реализовать функцию `get_user_tweets(user_id)`. Входной параметр - id пользователя из файла. Возвращаемое значение - массив твитов пользователя, где каждый твит представлен в виде словаря. Предполагается, что информация о пользователе содержится в твитах, которые пользователь написал сам. Это означает, что можно попробовать отфильтровать ответы другим пользователям, ссылки и ретвиты, а так же картинки и видео, так как наша цель - найти текстовую информацию."
   ]
  },
  {
   "cell_type": "code",
   "execution_count": 360,
   "metadata": {
    "collapsed": true
   },
   "outputs": [],
   "source": [
    "def get_user_tweets(user_id):\n",
    "    \"\"\"returns list of tweets as dicts\"\"\"\n",
    "    # your code here\n",
    "    filtered = []\n",
    "    tweets = api.GetUserTimeline(user_id, count=200)\n",
    "    for tweet in tweets:\n",
    "        tweet_dict = tweet.AsDict()\n",
    "        tw_arr = [f for f in tweet_dict['text'].split() if f[:4:] != 'http']\n",
    "        if len(tw_arr) != 0 and tweet_dict['text'][:2:] != 'RT' and tweet_dict['text'][0] != '@':\n",
    "            nt = ''\n",
    "            for tw in tw_arr:\n",
    "                nt = nt + ' ' + tw\n",
    "            tweet_dict['text'] = nt\n",
    "            filtered.append(tweet_dict)\n",
    "    return filtered"
   ]
  },
  {
   "cell_type": "markdown",
   "metadata": {},
   "source": [
    "## Разбор текста твита"
   ]
  },
  {
   "cell_type": "markdown",
   "metadata": {},
   "source": [
    "Обработка текста предполагает разбиение текста на отдельные элементы - параграфы, предложения, слова. Мы будем преобразовывать текст твита к словам. Для этого текст необходимо разбить на слова. Сделать это можно, например, с помощью регулярного выражения.\n",
    "\n",
    "Необходимо реализовать функцию, `get_words(text)`. Входной параметр - строка с текстом. Возвращаемое значение - массив строк (слов). Обратите внимание, что нужно учесть возможное наличие пунктуации и выделить по возможности только слова. "
   ]
  },
  {
   "cell_type": "code",
   "execution_count": 414,
   "metadata": {
    "collapsed": false
   },
   "outputs": [],
   "source": [
    "import re\n",
    "\n",
    "def is_number(s):\n",
    "    try:\n",
    "        float(s)\n",
    "        return True\n",
    "    except ValueError:\n",
    "        return False\n",
    "\n",
    "def get_words(text):\n",
    "    \"\"\"returns list of words\"\"\"\n",
    "    sym = ['\\\"', \"[\", ']', '\"', '\\'']\n",
    "    filtered = []\n",
    "    if text == '':\n",
    "        return 0\n",
    "    text = re.sub('[.,-?/|\\><{}()=#+;:^&*!$’…‘—]', ' ', text)\n",
    "    text.replace('\\\"', ' ')\n",
    "    try:       \n",
    "        emojipattern = re.compile(u'([\\U00002600-\\U000027BF])|([\\U0001f300-\\U0001f64F])|([\\U0001f680-\\U0001f6FF])')\n",
    "    except re.error:\n",
    "        emojipattern = re.compile(u'([\\u2600-\\u27BF])|([\\uD83C][\\uDF00-\\uDFFF])|([\\uD83D][\\uDC00-\\uDE4F])|([\\uD83D][\\uDE80-\\uDEFF])')\n",
    "    text = emojipattern.sub(' ', text)\n",
    "    patternsym = re.compile(u'([\\u2010-\\u2027])')\n",
    "    text = patternsym.sub(' ', text)\n",
    "    words = [f for f in text.split()]\n",
    "    for word in words:\n",
    "        if word == 'amp' or word == 'via':\n",
    "            continue\n",
    "        if '\\'s' in word:\n",
    "            word = word[:len(word) - 2:]\n",
    "        else:\n",
    "            if '\\'' in word:\n",
    "                continue\n",
    "        if word != '' and word[0] in sym:\n",
    "            word = word[1::]\n",
    "        if word != '' and word[len(word) - 1] in sym:\n",
    "            word = word[:len(word) - 1:]\n",
    "        if len(word) > 2 and len(word) < 17 and word[0] != '@' and not is_number(word) and 'n\\'t' not in word and 'it\\'s' not in word:\n",
    "            filtered.append(word)\n",
    "    return filtered"
   ]
  },
  {
   "cell_type": "code",
   "execution_count": 415,
   "metadata": {
    "collapsed": false
   },
   "outputs": [
    {
     "name": "stdout",
     "output_type": "stream",
     "text": [
      "['Here', 'are', 'different', 'words']\n"
     ]
    }
   ],
   "source": [
    "print get_words(\"Here are different words!\")"
   ]
  },
  {
   "cell_type": "markdown",
   "metadata": {},
   "source": [
    "Далее полученные слова необходимо привести к нормальной форме. То есть привести их к форме единственного числа настоящего времени и пр. Сделать это можно с помощью библиотеки nltk. Информацию по загрузке, установке библиотеки и примерах использования можно найти на сайте http://www.nltk.org/\n",
    "\n",
    "Для загрузки всех необходимых словарей можно воспользоваться методом download из библиотеки nltk."
   ]
  },
  {
   "cell_type": "code",
   "execution_count": 112,
   "metadata": {
    "collapsed": false
   },
   "outputs": [
    {
     "name": "stdout",
     "output_type": "stream",
     "text": [
      "[nltk_data] Downloading package stopwords to /Users/masha/nltk_data...\n",
      "[nltk_data]   Package stopwords is already up-to-date!\n"
     ]
    },
    {
     "data": {
      "text/plain": [
       "True"
      ]
     },
     "execution_count": 112,
     "metadata": {},
     "output_type": "execute_result"
    }
   ],
   "source": [
    "import nltk\n",
    "nltk.download('stopwords')"
   ]
  },
  {
   "cell_type": "markdown",
   "metadata": {},
   "source": [
    "Для дальнейшей обработки слова должны быть приведены к нижнему регистру. \n",
    "\n",
    "Для приведения к нормальной форме можно использовать `WordNetLemmatizer` из библиотеки nltk. У этого класса есть метод `lemmatize`.\n",
    "\n",
    "Также необходимо убрать из текста так называемые стоп-слова. Это часто используемые слова, не несущие смысловой нагрузки для наших задач. Сделать это можно с помощью `stopwords` из nltk.corpus"
   ]
  },
  {
   "cell_type": "markdown",
   "metadata": {},
   "source": [
    "Необходимо реализовать функцию `get_tokens(words)`. Входной параметр - массив слов. Возвращаемое значение - массив токенов."
   ]
  },
  {
   "cell_type": "code",
   "execution_count": 405,
   "metadata": {
    "collapsed": false
   },
   "outputs": [],
   "source": [
    "def get_tokens(words):\n",
    "    \"\"\"returns list of tokens\"\"\"\n",
    "    # your code here\n",
    "    stop = False\n",
    "    tokens = []\n",
    "    languages = ['danish', 'dutch', 'english', 'finnish', 'french', 'german', 'hungarian', 'italian', 'norwegian', 'portuguese', 'russian', 'spanish', 'swedish', 'turkish']\n",
    "    for word in words:\n",
    "        word = word.lower()\n",
    "        to_add = True\n",
    "        for lang in languages:\n",
    "            if word in stopwords.words(lang):\n",
    "                to_add = False\n",
    "        if to_add:\n",
    "            tokens.append(word)\n",
    "    return tokens"
   ]
  },
  {
   "cell_type": "code",
   "execution_count": 410,
   "metadata": {
    "collapsed": false
   },
   "outputs": [
    {
     "name": "stdout",
     "output_type": "stream",
     "text": [
      "['different', 'words']\n"
     ]
    }
   ],
   "source": [
    "print get_tokens([\"here\", \"are\", \"different\", \"words\"])"
   ]
  },
  {
   "cell_type": "markdown",
   "metadata": {},
   "source": [
    "Необходимо реализовать функцию `get_tweet_tokens(tweet)`. Входной параметр - текст твита. Возвращаемое значение -- токены твита. "
   ]
  },
  {
   "cell_type": "code",
   "execution_count": 370,
   "metadata": {
    "collapsed": false
   },
   "outputs": [],
   "source": [
    "def get_tweet_tokens(tweet):\n",
    "    # your code here\n",
    "    return get_tokens(get_words(tweet))"
   ]
  },
  {
   "cell_type": "code",
   "execution_count": 409,
   "metadata": {
    "collapsed": false
   },
   "outputs": [
    {
     "data": {
      "text/plain": [
       "['different', 'words']"
      ]
     },
     "execution_count": 409,
     "metadata": {},
     "output_type": "execute_result"
    }
   ],
   "source": [
    "get_tweet_tokens(\"Here are different words!\")"
   ]
  },
  {
   "cell_type": "markdown",
   "metadata": {},
   "source": [
    "Необходимо реализовать функцию `collect_users_tokens()`. Функция должна сконструировать матрицу признаков пользователей. В этой матрице строка - пользователь. Столбец - токен. На пересечении - сколько раз токен встречается у пользователя.\n",
    "Для построения матрицы можно использовать `DictVectorizer` из `sklearn.feature_extraction`."
   ]
  },
  {
   "cell_type": "code",
   "execution_count": 417,
   "metadata": {
    "collapsed": false
   },
   "outputs": [],
   "source": [
    "import time\n",
    "\n",
    "def collect_users_tokens(df_users):\n",
    "    \"\"\"returns users list and list of user dicts. Each dict contains frequence of user tokens\"\"\"\n",
    "    # your code here\n",
    "    # save intermediate result\n",
    "    \n",
    "    uidlist = df_users.uid.tolist()\n",
    "    uidtokenlist = []\n",
    "    \n",
    "    for uid in uidlist:\n",
    "        try:\n",
    "            try:\n",
    "                tweets_arr = get_user_tweets(uid)\n",
    "            except:\n",
    "                try:\n",
    "                    time.sleep(api.GetSleepTime(\"statuses/user_timeline\"))\n",
    "                except:\n",
    "                    time.sleep(30)\n",
    "                    tweets_arr = get_user_tweets(uid)\n",
    "            finally:\n",
    "                token_freq = {}\n",
    "                for tweet in tweets_arr:\n",
    "                    tokens = get_tweet_tokens(tweet['text'])\n",
    "                    for token in tokens:\n",
    "                        if token in token_freq.keys():\n",
    "                            token_freq[token] += 1\n",
    "                        else:\n",
    "                            token_freq.update({token: 1})\n",
    "                uidtokenlist.append(token_freq)\n",
    "        except:\n",
    "            print \"Exception\"\n",
    "            return uidlist[:len(uidtokenlist):], uidtokenlist   \n",
    "    return uidlist, uidtokenlist"
   ]
  },
  {
   "cell_type": "code",
   "execution_count": 418,
   "metadata": {
    "collapsed": false
   },
   "outputs": [],
   "source": [
    "import pandas as pd\n",
    "from collections import defaultdict\n",
    "import json\n",
    "from sklearn.feature_extraction import DictVectorizer\n",
    "\n",
    "\n",
    "TRAINING_SET_URL = \"twitter_train.txt\"\n",
    "EXAMPLE_SET_URL = \"twitter_example.txt\"\n",
    "df_users_train = pd.read_csv(TRAINING_SET_URL, sep=\",\", header=0, names=[\"uid\", \"cat\"])\n",
    "df_users_ex = pd.read_csv(EXAMPLE_SET_URL, sep=\",\", header=0, names=[\"uid\", \"cat\"])\n",
    "df_users_ex['cat'] = None\n",
    "df_users = pd.concat([df_users_train, df_users_ex])\n",
    "\n",
    "\n",
    "users, users_tokens = collect_users_tokens(df_users)\n",
    "v = DictVectorizer()\n",
    "vs = v.fit_transform(users_tokens)"
   ]
  },
  {
   "cell_type": "raw",
   "metadata": {},
   "source": [
    "Сохраним полученные данные в файл. Используется метод savez из numpy. "
   ]
  },
  {
   "cell_type": "code",
   "execution_count": 420,
   "metadata": {
    "collapsed": false
   },
   "outputs": [],
   "source": [
    "import numpy as np\n",
    "np.savez(\"out_4.dat\", data=vs, users=users, users_tokens=users_tokens)"
   ]
  },
  {
   "cell_type": "markdown",
   "metadata": {},
   "source": [
    "Далее для получения представления о полученной информацию о токенах предлагается отобразить ее в виде облака тэгов. [Подсказка](http://anokhin.github.io/img/tag_cloud.png). "
   ]
  },
  {
   "cell_type": "code",
   "execution_count": 438,
   "metadata": {
    "collapsed": false
   },
   "outputs": [
    {
     "name": "stdout",
     "output_type": "stream",
     "text": [
      "Populating the interactive namespace from numpy and matplotlib\n"
     ]
    },
    {
     "name": "stderr",
     "output_type": "stream",
     "text": [
      "WARNING: pylab import has clobbered these variables: ['imread']\n",
      "`%matplotlib` prevents importing * from pylab and numpy\n"
     ]
    }
   ],
   "source": [
    "%pylab inline\n",
    "from wordcloud import WordCloud, ImageColorGenerator\n",
    "from scipy.misc import imread\n",
    "\n",
    "def draw_tag_cloud(v, vs):\n",
    "    \"\"\"Draws tag cloud of found tokens\"\"\"\n",
    "    # your code here\n",
    "    va = vs.toarray()\n",
    "    col_sum = np.sum(va, axis=0)\n",
    "    tokens = v.get_feature_names()\n",
    "    tuples = zip(tokens, col_sum)\n",
    "    sorted_tuples = sorted(tuples, key=lambda x: x[1], reverse=True)\n",
    "    \n",
    "    cloud_mask = imread('cloud.png', flatten=True)\n",
    "    colour_mask = imread('rainbow4.png')\n",
    "    wordcloud = WordCloud(font_path='QuinchoScript.ttf', background_color='white', mask=cloud_mask).generate_from_frequencies(sorted_tuples)\n",
    "    image_colors = ImageColorGenerator(colour_mask)\n",
    "    plt.imshow(wordcloud.recolor(color_func=image_colors))\n",
    "    plt.axis('off')\n",
    "    plt.savefig('wordcloud.png', dpi=300)\n",
    "    plt.show()\n",
    "    return"
   ]
  },
  {
   "cell_type": "code",
   "execution_count": 442,
   "metadata": {
    "collapsed": false
   },
   "outputs": [
    {
     "data": {
      "image/png": "[encoded data removed]",
      "text/plain": [
       "<matplotlib.figure.Figure at 0x11673f450>"
      ]
     },
     "metadata": {},
     "output_type": "display_data"
    }
   ],
   "source": [
    "draw_tag_cloud(v, vs_all)"
   ]
  },
  {
   "cell_type": "code",
   "execution_count": null,
   "metadata": {
    "collapsed": true
   },
   "outputs": [],
   "source": []
  }
 ],
 "metadata": {
  "kernelspec": {
   "display_name": "Python 2",
   "language": "python",
   "name": "python2"
  },
  "language_info": {
   "codemirror_mode": {
    "name": "ipython",
    "version": 2
   },
   "file_extension": ".py",
   "mimetype": "text/x-python",
   "name": "python",
   "nbconvert_exporter": "python",
   "pygments_lexer": "ipython2",
   "version": "2.7.11"
  }
 },
 "nbformat": 4,
 "nbformat_minor": 0
}
