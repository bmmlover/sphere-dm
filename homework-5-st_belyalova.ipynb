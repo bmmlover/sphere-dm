{
 "cells": [
  {
   "cell_type": "markdown",
   "metadata": {},
   "source": [
    "# Домашнее задание 5. Линейные модели"
   ]
  },
  {
   "cell_type": "code",
   "execution_count": 1,
   "metadata": {
    "collapsed": false
   },
   "outputs": [
    {
     "name": "stdout",
     "output_type": "stream",
     "text": [
      "Populating the interactive namespace from numpy and matplotlib\n"
     ]
    }
   ],
   "source": [
    "import random as pr\n",
    "import numpy as np\n",
    "import pandas as pd\n",
    "import matplotlib.pylab as pl\n",
    "import sklearn.cross_validation as cv\n",
    "import sklearn.metrics as sm\n",
    "\n",
    "# Plotting config\n",
    "%pylab inline"
   ]
  },
  {
   "cell_type": "markdown",
   "metadata": {},
   "source": [
    "Зачитываем результат 4 домашки"
   ]
  },
  {
   "cell_type": "code",
   "execution_count": 2,
   "metadata": {
    "collapsed": false,
    "scrolled": true
   },
   "outputs": [],
   "source": [
    "data = np.load(\"out_4.dat.npz\")\n",
    "users = data[\"users\"]\n",
    "X_dataset = data[\"data\"].reshape(1,)[0]"
   ]
  },
  {
   "cell_type": "code",
   "execution_count": 3,
   "metadata": {
    "collapsed": false
   },
   "outputs": [
    {
     "data": {
      "text/plain": [
       "(6898, 164790)"
      ]
     },
     "execution_count": 3,
     "metadata": {},
     "output_type": "execute_result"
    }
   ],
   "source": [
    "X_dataset.shape"
   ]
  },
  {
   "cell_type": "markdown",
   "metadata": {},
   "source": [
    "Зачитываем категории пользователей"
   ]
  },
  {
   "cell_type": "code",
   "execution_count": 4,
   "metadata": {
    "collapsed": false
   },
   "outputs": [],
   "source": [
    "TRAINING_SET_URL = \"twitter_train.txt\"\n",
    "EXAMPLE_SET_URL = \"twitter_example.txt\"\n",
    "df_users_train = pd.read_csv(TRAINING_SET_URL, sep=\",\", header=0)\n",
    "df_users_ex = pd.read_csv(EXAMPLE_SET_URL, sep=\",\", header=0)\n",
    "df_users_ex['cat'] = None\n",
    "df_users = pd.concat([df_users_train, df_users_ex])"
   ]
  },
  {
   "cell_type": "markdown",
   "metadata": {},
   "source": [
    "Модель строим для пользователей из twitter_train, нужно выбрать этих пользователей из матрицы из 4 ДЗ:"
   ]
  },
  {
   "cell_type": "code",
   "execution_count": 5,
   "metadata": {
    "collapsed": false,
    "scrolled": true
   },
   "outputs": [],
   "source": [
    "# TODO check this code\n",
    "train_users = df_users_train[\"uid\"].values\n",
    "ix = np.in1d(users, train_users).reshape(users.shape) #можно np.in1d(users, train_users)\n",
    "X = X_dataset[np.where(ix)] #можно X_dataset[ix]"
   ]
  },
  {
   "cell_type": "code",
   "execution_count": 6,
   "metadata": {
    "collapsed": false
   },
   "outputs": [
    {
     "data": {
      "text/plain": [
       "True"
      ]
     },
     "execution_count": 6,
     "metadata": {},
     "output_type": "execute_result"
    }
   ],
   "source": [
    "np.array_equal(X_dataset[np.where(ix)].toarray(), X_dataset[ix].toarray())"
   ]
  },
  {
   "cell_type": "code",
   "execution_count": 7,
   "metadata": {
    "collapsed": false
   },
   "outputs": [
    {
     "data": {
      "text/plain": [
       "(5000, 164790)"
      ]
     },
     "execution_count": 7,
     "metadata": {},
     "output_type": "execute_result"
    }
   ],
   "source": [
    "X_dataset[np.where(ix)].toarray().shape"
   ]
  },
  {
   "cell_type": "code",
   "execution_count": 8,
   "metadata": {
    "collapsed": false
   },
   "outputs": [
    {
     "data": {
      "text/plain": [
       "(5000, 164790)"
      ]
     },
     "execution_count": 8,
     "metadata": {},
     "output_type": "execute_result"
    }
   ],
   "source": [
    "X_dataset[ix].toarray().shape"
   ]
  },
  {
   "cell_type": "code",
   "execution_count": 9,
   "metadata": {
    "collapsed": false
   },
   "outputs": [
    {
     "data": {
      "text/plain": [
       "True"
      ]
     },
     "execution_count": 9,
     "metadata": {},
     "output_type": "execute_result"
    }
   ],
   "source": [
    "np.array_equal(np.in1d(users, train_users), np.in1d(users, train_users).reshape(users.shape))"
   ]
  },
  {
   "cell_type": "code",
   "execution_count": 10,
   "metadata": {
    "collapsed": false
   },
   "outputs": [
    {
     "data": {
      "text/plain": [
       "(6898,)"
      ]
     },
     "execution_count": 10,
     "metadata": {},
     "output_type": "execute_result"
    }
   ],
   "source": [
    "np.in1d(users, train_users).shape"
   ]
  },
  {
   "cell_type": "code",
   "execution_count": 12,
   "metadata": {
    "collapsed": false
   },
   "outputs": [
    {
     "data": {
      "text/plain": [
       "(6898,)"
      ]
     },
     "execution_count": 12,
     "metadata": {},
     "output_type": "execute_result"
    }
   ],
   "source": [
    "np.in1d(users, train_users).reshape(users.shape).shape"
   ]
  },
  {
   "cell_type": "markdown",
   "metadata": {},
   "source": [
    "Формируем целевую переменную: Делаем join списка пользователей из ДЗ4 с обучающей выборкой."
   ]
  },
  {
   "cell_type": "code",
   "execution_count": 13,
   "metadata": {
    "collapsed": false
   },
   "outputs": [
    {
     "name": "stdout",
     "output_type": "stream",
     "text": [
      "Resulting training set: (5000x164790) feature matrix, 5000 target vector\n"
     ]
    }
   ],
   "source": [
    "Y = df_users_train['cat'].values\n",
    "print \"Resulting training set: (%dx%d) feature matrix, %d target vector\" % (X.shape[0], X.shape[1], Y.shape[0])"
   ]
  },
  {
   "cell_type": "markdown",
   "metadata": {},
   "source": [
    "Чтобы исследовать, как ведут себя признаки, построим распределение количества ненулевых признаков у пользователей, чтобы убедиться, что он удовлетворяет закону Ципфа. Для этого построим гистограмму в логарифмических осях. [Подсказка](http://anokhin.github.io/img/sf1.png)"
   ]
  },
  {
   "cell_type": "code",
   "execution_count": 14,
   "metadata": {
    "collapsed": false
   },
   "outputs": [
    {
     "data": {
      "image/png": "[encoded data removed]",
      "text/plain": [
       "<matplotlib.figure.Figure at 0x1119f3190>"
      ]
     },
     "metadata": {},
     "output_type": "display_data"
    }
   ],
   "source": [
    "def draw_log_hist(x):\n",
    "    \"\"\"Draw tokens histogram in log scales\"\"\"\n",
    "    \n",
    "    # Your code here\n",
    "    features_counts = (X.toarray()!=0).sum(axis = 0) + 1\n",
    "    plt.xscale('log')\n",
    "    plt.yscale('log')\n",
    "    plt.scatter(xrange(1, x.shape[1]+1), sorted(features_counts, reverse=True))\n",
    "    return features_counts\n",
    "\n",
    "features_counts = draw_log_hist(X)"
   ]
  },
  {
   "cell_type": "markdown",
   "metadata": {},
   "source": [
    "Проведем отбор признаков. В самом простом случае просто удаляем признаки, имеющие ненулевое значение у менее, чем 100 пользователей."
   ]
  },
  {
   "cell_type": "code",
   "execution_count": 15,
   "metadata": {
    "collapsed": false
   },
   "outputs": [],
   "source": [
    "X1 = X.tocsc()[:, features_counts > 260].toarray()"
   ]
  },
  {
   "cell_type": "markdown",
   "metadata": {},
   "source": [
    "Вариант задания генерируется на основании вашего ника в техносфере."
   ]
  },
  {
   "cell_type": "code",
   "execution_count": 16,
   "metadata": {
    "collapsed": false
   },
   "outputs": [
    {
     "name": "stdout",
     "output_type": "stream",
     "text": [
      "My homework 5 algorithm is: Logistic regression with L2 regularization optimized by Newton method\n"
     ]
    }
   ],
   "source": [
    "USER_NAME = \"m.belyalova\"\n",
    "OPTIMIZATION_ALGORITHMS = [\"stochastic gradient descent\", \"Newton method\"]\n",
    "REGULARIZATIONS = [\"L1\", \"L2\"]\n",
    "\n",
    "print \"My homework 5 algorithm is: Logistic regression with %s regularization optimized by %s\" % (\n",
    "    REGULARIZATIONS[hash(USER_NAME) % 2],\n",
    "    OPTIMIZATION_ALGORITHMS[hash(USER_NAME[::-1]) % 2]\n",
    ")"
   ]
  },
  {
   "cell_type": "markdown",
   "metadata": {},
   "source": [
    "Реализуем выбранный алгоритм"
   ]
  },
  {
   "cell_type": "code",
   "execution_count": 26,
   "metadata": {
    "collapsed": false
   },
   "outputs": [],
   "source": [
    "from numpy.linalg import inv\n",
    "from __future__ import division\n",
    "\n",
    "class LogisticRegression():\n",
    "    def __init__(self, max_iter=100, C=1000, step=1):\n",
    "        self.max_iter = max_iter\n",
    "        self.C = C\n",
    "        self.step = step\n",
    "    \n",
    "    def mnk(self, x, y, w=None):\n",
    "        if w == None:\n",
    "            w = np.zeros(x.shape[1])\n",
    "        inverted_hessian = inv(np.dot(x.T, x) + np.eye(x.shape[1]) * 2 * self.C)\n",
    "        grad_vector_with_l2 = np.dot(x.T, y) - 2 * self.C * w\n",
    "        return np.dot(inverted_hessian, grad_vector_with_l2)\n",
    "        #return np.dot(np.dot(inv(np.dot(X.T, X)), X.T), y)\n",
    "\n",
    "    def sigma(self, z):\n",
    "        return 1 / (1 + np.exp(-z))\n",
    "\n",
    "    def Newton_IRLS(self, X, Y):\n",
    "        #w = np.dot(inv(np.dot(self.X.T, self.X)), np.dot(self.X.T, self.Y))   \n",
    "        w = self.mnk(X, Y)\n",
    "        self.iters.append(w)\n",
    "        #pred_sigmas = np.zeros(self.X.shape[0])\n",
    "        for t in range(0, self.max_iter):\n",
    "            z = np.dot(X, w)\n",
    "            zy = np.multiply(z, Y)          \n",
    "            sigmas = self.sigma(zy)\n",
    "            weights = np.sqrt((1 - sigmas) * sigmas)\n",
    "    \n",
    "            X_weighted = np.dot(np.diag(weights), X)\n",
    "            y_weighted = np.multiply(Y, np.sqrt((1 - sigmas) / sigmas))\n",
    "            \n",
    "            #w_iter = np.dot(inv(np.dot(X_weighted.T, X_weighted)), np.dot(X_weighted.T, y_weighted) - self.C)\n",
    "            #w = w + step_t * w_iter\n",
    "            old_w = w\n",
    "            w = w + self.step * self.mnk(X_weighted, y_weighted, w)\n",
    "            if np.isnan(w[0]):\n",
    "                print 'Iteration method with such parameters doesn\\'t converge :('\n",
    "                return old_w\n",
    "            \n",
    "            self.iters.append(w)\n",
    "            \n",
    "            #if np.linalg.norm(sigmas - pred_sigmas) < self.eps:\n",
    "                #break\n",
    "            #pred_sigmas = sigmas\n",
    "        return w\n",
    "    \n",
    "    def fit(self, X, Y=None):\n",
    "        classes = np.unique(Y).tolist()\n",
    "        if len(classes) != 2:\n",
    "            raise ValueError('This classifier handles only two-class classification :(')\n",
    "        if classes != [-1, 1]:\n",
    "            Y = numpy.where(np.copy(Y) == classes[0], -1, np.copy(Y))\n",
    "            Y = numpy.where(np.copy(Y) == classes[1], 1, np.copy(Y))\n",
    "        X = np.hstack((X, np.ones(X.shape[0])[:,np.newaxis]))\n",
    "        self.iters = []\n",
    "        #self.X = X\n",
    "        #self.Y = Y\n",
    "        self.w = self.Newton_IRLS(X, Y)\n",
    "        print 'Classifier was fitted :)'\n",
    "        return self\n",
    "    \n",
    "    def predict_proba(self, x):\n",
    "        x = np.hstack((x, np.ones(x.shape[0])[:,np.newaxis]))\n",
    "        proba = 1 - 1 / (1 + np.exp(-x.dot(self.w[:,np.newaxis])))\n",
    "        proba = np.hstack((proba, 1/(1 + np.exp(-x.dot(self.w)))[:,np.newaxis]))\n",
    "        print 'Data was predicted :)'\n",
    "        return proba"
   ]
  },
  {
   "cell_type": "markdown",
   "metadata": {},
   "source": [
    "Реализуем метрику качества, используемую в соревновании: площадь под ROC кривой"
   ]
  },
  {
   "cell_type": "code",
   "execution_count": 20,
   "metadata": {
    "collapsed": true
   },
   "outputs": [],
   "source": [
    "from __future__ import division\n",
    "\n",
    "def auroc(y_prob, y_true):\n",
    "    m_minus = (y_true == 0).sum()\n",
    "    m_plus = (y_true == 1).sum()\n",
    "    \n",
    "    sorted_by_prob = sorted(zip(y_true, y_prob), key=lambda tup: tup[1], reverse=True)\n",
    "    sorted_y_true = zip(*sorted_by_prob)[0]\n",
    "    \n",
    "    fp, tp = 0, 0\n",
    "    fpr, tpr = [], []\n",
    "    f_prev = -inf\n",
    "    auc = 0\n",
    "    \n",
    "    for i in range(1, len(sorted_y_true)):\n",
    "        if y_prob[i] != f_prev:\n",
    "            fpr_i = fp / m_minus\n",
    "            fpr.append(fpr_i)\n",
    "            tpr_i = tp / m_plus\n",
    "            tpr.append(tpr_i)\n",
    "            f_prev = y_prob[i]\n",
    "        if y_true[i] == 1:\n",
    "            tp += 1\n",
    "        else:\n",
    "            fp += 1\n",
    "            auc += 1 / m_minus * tpr[-1]\n",
    "    return fpr, tpr, auc"
   ]
  },
  {
   "cell_type": "markdown",
   "metadata": {},
   "source": [
    "Разделим выборку с помощью методики кросс-валидации для того, чтобы настроить параметр регуляризации $C$"
   ]
  },
  {
   "cell_type": "code",
   "execution_count": 30,
   "metadata": {
    "collapsed": true
   },
   "outputs": [],
   "source": [
    "from sklearn.cross_validation import KFold\n",
    "\n",
    "def cross_validation_score(model, X, Y):\n",
    "    kf = KFold(X1.shape[0], n_folds=10)\n",
    "    rocs = []\n",
    "    for train_index, test_index in kf:\n",
    "        X_train, X_test = X[train_index], X[test_index]\n",
    "        y_train, y_test = Y[train_index], Y[test_index]\n",
    "        model.fit(X_train, y_train)\n",
    "        prob_pos = model.predict_proba(X_test)[:, 1]\n",
    "        #prob_pos[prob_pos > 0.5] = 1\n",
    "        #prob_pos[prob_pos <= 0.5] = 0\n",
    "        roc_auc = auroc(prob_pos, y_test)[2]\n",
    "        rocs.append(roc_auc)\n",
    "    return rocs"
   ]
  },
  {
   "cell_type": "code",
   "execution_count": 31,
   "metadata": {
    "collapsed": false
   },
   "outputs": [
    {
     "name": "stdout",
     "output_type": "stream",
     "text": [
      "Trying model with C=0.0\n",
      "Classifier was fitted :)\n",
      "Data was predicted :)\n",
      "Classifier was fitted :)\n",
      "Data was predicted :)\n",
      "Classifier was fitted :)\n",
      "Data was predicted :)\n",
      "Classifier was fitted :)\n",
      "Data was predicted :)\n",
      "Classifier was fitted :)\n",
      "Data was predicted :)\n",
      "Classifier was fitted :)\n",
      "Data was predicted :)\n",
      "Classifier was fitted :)\n",
      "Data was predicted :)\n",
      "Classifier was fitted :)\n",
      "Data was predicted :)\n",
      "Classifier was fitted :)\n",
      "Data was predicted :)\n",
      "Classifier was fitted :)\n",
      "Data was predicted :)\n",
      "[0.60503072196620589, 0.5939975990396158, 0.55687074829931971, 0.63680084643870527, 0.54761904761904756, 0.60497596153846156, 0.58688020006733033, 0.56333808615966285, 0.57868333039957753, 0.57042850742447515]\n",
      "Accuracy: 0.584462504895\n",
      "Trying model with C=0.01\n",
      "Classifier was fitted :)\n",
      "Data was predicted :)\n",
      "Classifier was fitted :)\n",
      "Data was predicted :)\n",
      "Classifier was fitted :)\n",
      "Data was predicted :)\n",
      "Classifier was fitted :)\n",
      "Data was predicted :)\n",
      "Classifier was fitted :)\n",
      "Data was predicted :)\n",
      "Classifier was fitted :)\n",
      "Data was predicted :)\n",
      "Classifier was fitted :)\n",
      "Data was predicted :)\n",
      "Classifier was fitted :)\n",
      "Data was predicted :)\n",
      "Classifier was fitted :)\n",
      "Data was predicted :)\n",
      "Classifier was fitted :)\n",
      "Data was predicted :)\n",
      "[0.60502272145417313, 0.59422969187675068, 0.55704681872749096, 0.63669664470414733, 0.54781105990783419, 0.60499198717948721, 0.58696035524775958, 0.56333808615966297, 0.57873133731257298, 0.57082853302611369]\n",
      "Accuracy: 0.58456572356\n",
      "Trying model with C=0.1\n",
      "Classifier was fitted :)\n",
      "Data was predicted :)\n",
      "Classifier was fitted :)\n",
      "Data was predicted :)\n",
      "Classifier was fitted :)\n",
      "Data was predicted :)\n",
      "Classifier was fitted :)\n",
      "Data was predicted :)\n",
      "Classifier was fitted :)\n",
      "Data was predicted :)\n",
      "Classifier was fitted :)\n",
      "Data was predicted :)\n",
      "Classifier was fitted :)\n",
      "Data was predicted :)\n",
      "Classifier was fitted :)\n",
      "Data was predicted :)\n",
      "Classifier was fitted :)\n",
      "Data was predicted :)\n",
      "Classifier was fitted :)\n",
      "Data was predicted :)\n",
      "[0.60554275473630315, 0.59540616246498601, 0.55821528611444582, 0.63779477067602885, 0.54885112647209422, 0.60527243589743585, 0.58753747254685063, 0.56393886476874022, 0.57823526587828644, 0.5722046210957501]\n",
      "Accuracy: 0.585299876065\n",
      "Trying model with C=1\n",
      "Classifier was fitted :)\n",
      "Data was predicted :)\n",
      "Classifier was fitted :)\n",
      "Data was predicted :)\n",
      "Classifier was fitted :)\n",
      "Data was predicted :)\n",
      "Classifier was fitted :)\n",
      "Data was predicted :)\n",
      "Classifier was fitted :)\n",
      "Data was predicted :)\n",
      "Classifier was fitted :)\n",
      "Data was predicted :)\n",
      "Classifier was fitted :)\n",
      "Data was predicted :)\n",
      "Classifier was fitted :)\n",
      "Data was predicted :)\n",
      "Classifier was fitted :)\n",
      "Data was predicted :)\n",
      "Classifier was fitted :)\n",
      "Data was predicted :)\n",
      "[0.60661482334869432, 0.6038735494197679, 0.56484993997599031, 0.6449766748424951, 0.55669162826420893, 0.60828525641025644, 0.59128873499094248, 0.56608564699851005, 0.58169976476612628, 0.58109318996415771]\n",
      "Accuracy: 0.590545920898\n",
      "Trying model with C=10\n",
      "Classifier was fitted :)\n",
      "Data was predicted :)\n",
      "Classifier was fitted :)\n",
      "Data was predicted :)\n",
      "Classifier was fitted :)\n",
      "Data was predicted :)\n",
      "Classifier was fitted :)\n",
      "Data was predicted :)\n",
      "Classifier was fitted :)\n",
      "Data was predicted :)\n",
      "Classifier was fitted :)\n",
      "Data was predicted :)\n",
      "Classifier was fitted :)\n",
      "Data was predicted :)\n",
      "Classifier was fitted :)\n",
      "Data was predicted :)\n",
      "Classifier was fitted :)\n",
      "Data was predicted :)\n",
      "Classifier was fitted :)\n",
      "Data was predicted :)\n",
      "[0.615431387608807, 0.63563025210084034, 0.57867947178871559, 0.66235431795956978, 0.58554147465437789, 0.61851762820512823, 0.60756825213613563, 0.58592736186097183, 0.59341345153702141, 0.60704685099846389]\n",
      "Accuracy: 0.609011044885\n",
      "Trying model with C=100\n",
      "Classifier was fitted :)\n",
      "Data was predicted :)\n",
      "Classifier was fitted :)\n",
      "Data was predicted :)\n",
      "Classifier was fitted :)\n",
      "Data was predicted :)\n",
      "Classifier was fitted :)\n",
      "Data was predicted :)\n",
      "Classifier was fitted :)\n",
      "Data was predicted :)\n",
      "Classifier was fitted :)\n",
      "Data was predicted :)\n",
      "Classifier was fitted :)\n",
      "Data was predicted :)\n",
      "Classifier was fitted :)\n",
      "Data was predicted :)\n",
      "Classifier was fitted :)\n",
      "Data was predicted :)\n",
      "Classifier was fitted :)\n",
      "Data was predicted :)\n",
      "[0.63324052739375314, 0.67249299719887945, 0.61874349739895962, 0.68758716875871695, 0.63530465949820791, 0.66160256410256402, 0.64179451417945144, 0.63307646710136345, 0.62954665471827953, 0.65244175627240153]\n",
      "Accuracy: 0.646583080662\n",
      "Trying model with C=1000\n",
      "Classifier was fitted :)\n",
      "Data was predicted :)\n",
      "Classifier was fitted :)\n",
      "Data was predicted :)\n",
      "Classifier was fitted :)\n",
      "Data was predicted :)\n",
      "Classifier was fitted :)\n",
      "Data was predicted :)\n",
      "Classifier was fitted :)\n",
      "Data was predicted :)\n",
      "Classifier was fitted :)\n",
      "Data was predicted :)\n",
      "Classifier was fitted :)\n",
      "Data was predicted :)\n",
      "Classifier was fitted :)\n",
      "Data was predicted :)\n",
      "Classifier was fitted :)\n",
      "Data was predicted :)\n",
      "Classifier was fitted :)\n",
      "Data was predicted :)\n",
      "[0.67252304147465436, 0.68853141256502604, 0.65543017206882759, 0.721540903188573, 0.67231502816180244, 0.70668269230769243, 0.68100642844547044, 0.69563754625995289, 0.6857307452273127, 0.67273105478750628]\n",
      "Accuracy: 0.685212902449\n",
      "Trying model with C=10000\n",
      "Classifier was fitted :)\n",
      "Data was predicted :)\n",
      "Classifier was fitted :)\n",
      "Data was predicted :)\n",
      "Classifier was fitted :)\n",
      "Data was predicted :)\n",
      "Classifier was fitted :)\n",
      "Data was predicted :)\n",
      "Classifier was fitted :)\n",
      "Data was predicted :)\n",
      "Classifier was fitted :)\n",
      "Data was predicted :)\n",
      "Classifier was fitted :)\n",
      "Data was predicted :)\n",
      "Classifier was fitted :)\n",
      "Data was predicted :)\n",
      "Classifier was fitted :)\n",
      "Data was predicted :)\n",
      "Classifier was fitted :)\n",
      "Data was predicted :)\n",
      "[0.67780337941628255, 0.68489795918367358, 0.67691076430572228, 0.73848570833132943, 0.68966013824884798, 0.72150641025641027, 0.69557864024751903, 0.71795446899181348, 0.71992766958442012, 0.667178699436764]\n",
      "Accuracy: 0.6989903838\n",
      "Best accuracy: 0.6989903838\n",
      "Best parameter: 10000\n",
      "7\n"
     ]
    },
    {
     "name": "stderr",
     "output_type": "stream",
     "text": [
      "/Users/masha/anaconda/lib/python2.7/site-packages/ipykernel/__main__.py:11: FutureWarning: comparison to `None` will result in an elementwise object comparison in the future.\n"
     ]
    }
   ],
   "source": [
    "C = [0.0, 0.01, 0.1, 1, 10, 100, 1000, 10000]\n",
    "\n",
    "def select_reg_parameter(C, X, Y):\n",
    "    best_accuracy = 0\n",
    "    best_c_ind = -1\n",
    "    best_c = -1\n",
    "    for c in C:\n",
    "        model = LogisticRegression(C=c)\n",
    "        print \"Trying model with C=\" + str(c)\n",
    "        score = cross_validation_score(model, X, Y)\n",
    "        print score\n",
    "        accuracy = numpy.mean(score)\n",
    "        print \"Accuracy: \" + str(accuracy)\n",
    "        if accuracy > best_accuracy:\n",
    "            best_accuracy = accuracy\n",
    "            best_c_ind = C.index(c)\n",
    "            best_c = c\n",
    "    print \"Best accuracy: \" + str(best_accuracy)\n",
    "    print \"Best parameter: \" + str(best_c)\n",
    "    return best_c_ind\n",
    "\n",
    "index = select_reg_parameter(C, X1, Y)\n",
    "print index"
   ]
  },
  {
   "cell_type": "markdown",
   "metadata": {},
   "source": [
    "Выбираем наилучшее значение $C$, и классифицируем неизвестных пользователей и строим ROC-кривую"
   ]
  },
  {
   "cell_type": "code",
   "execution_count": 39,
   "metadata": {
    "collapsed": false
   },
   "outputs": [
    {
     "name": "stdout",
     "output_type": "stream",
     "text": [
      "Classifier was fitted :)\n",
      "Data was predicted :)\n",
      "Area under the ROC curve : 0.704683\n"
     ]
    },
    {
     "name": "stderr",
     "output_type": "stream",
     "text": [
      "/Users/masha/anaconda/lib/python2.7/site-packages/ipykernel/__main__.py:11: FutureWarning: comparison to `None` will result in an elementwise object comparison in the future.\n"
     ]
    },
    {
     "data": {
      "image/png": "[encoded data removed]",
      "text/plain": [
       "<matplotlib.figure.Figure at 0x1130a1090>"
      ]
     },
     "metadata": {},
     "output_type": "display_data"
    }
   ],
   "source": [
    "def classify(X, Y, test_size, C):\n",
    "    \n",
    "    train_samples = int((1 - test_size)*Y.shape[0])\n",
    "\n",
    "    X_train = X1[:train_samples]\n",
    "    X_test = X1[train_samples:]\n",
    "    y_train = Y[:train_samples]\n",
    "    y_test = Y[train_samples:]\n",
    "    \n",
    "    lr = LogisticRegression(C=C)\n",
    "    lr.fit(X_train, y_train)\n",
    "    prob_pos = lr.predict_proba(X_test)[:, 1]\n",
    "    \n",
    "    roc_auc = auroc(prob_pos, y_test)[2]\n",
    "    tpr = auroc(prob_pos, y_test)[1]\n",
    "    fpr = auroc(prob_pos, y_test)[0]\n",
    "    \n",
    "    return tpr, fpr, roc_auc\n",
    "\n",
    "tpr, fpr, roc_auc = classify(X1, Y, 0.3, C[index])\n",
    "\n",
    "print \"Area under the ROC curve : %f\" % roc_auc\n",
    "\n",
    "def plot_roc_curve(tpr, fpr, roc_auc):\n",
    "    \"\"\"Plot ROC curve\"\"\"\n",
    "    \n",
    "    # Your code here\n",
    "    plt.fill_between(fpr, tpr, label='ROC curve (area = %0.2f)' % roc_auc, alpha=0.3)\n",
    "    plt.plot([0, 1], [0, 1], 'k--')\n",
    "    plt.xlim([0.0, 1.0])\n",
    "    plt.ylim([0.0, 1.0])\n",
    "    plt.xlabel('False Positive Rate')\n",
    "    plt.ylabel('True Positive Rate')\n",
    "    \n",
    "    pass\n",
    "\n",
    "plot_roc_curve(tpr, fpr, roc_auc)"
   ]
  },
  {
   "cell_type": "markdown",
   "metadata": {},
   "source": [
    "С помощью полученной модели предсказываем категории для неизвестных пользователей из соревнования и загружаем на kaggle в нужном формате. ДЗ принимается только при наличии загруженных данных на kaggle."
   ]
  }
 ],
 "metadata": {
  "kernelspec": {
   "display_name": "Python 2",
   "language": "python",
   "name": "python2"
  },
  "language_info": {
   "codemirror_mode": {
    "name": "ipython",
    "version": 2
   },
   "file_extension": ".py",
   "mimetype": "text/x-python",
   "name": "python",
   "nbconvert_exporter": "python",
   "pygments_lexer": "ipython2",
   "version": "2.7.11"
  }
 },
 "nbformat": 4,
 "nbformat_minor": 0
}
